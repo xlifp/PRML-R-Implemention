{
 "cells": [
  {
   "cell_type": "markdown",
   "metadata": {},
   "source": [
    "# Chapter 1.  Introduction"
   ]
  },
  {
   "cell_type": "code",
   "execution_count": 20,
   "metadata": {},
   "outputs": [],
   "source": [
    "options(warn=-1)\n",
    "library(glmnet)\n",
    "library(Metrics)\n",
    "library(repr)\n",
    "set.seed(1)"
   ]
  },
  {
   "cell_type": "markdown",
   "metadata": {},
   "source": [
    "## Polynomial Curve Fitting"
   ]
  },
  {
   "cell_type": "code",
   "execution_count": 21,
   "metadata": {},
   "outputs": [
    {
     "data": {
      "image/png": "[encoded data removed]",
      "text/plain": [
       "plot without title"
      ]
     },
     "metadata": {},
     "output_type": "display_data"
    }
   ],
   "source": [
    "func <- function(x){\n",
    "        y <- sin(2*pi*x)\n",
    "        return(y)\n",
    "}\n",
    "\n",
    "generate_data <- function(func,sample_size,std){\n",
    "        x <- seq(0, 1, length.out = (sample_size+1))[-1]\n",
    "        t <- func(x)+rnorm(sample_size,mean = 0, sd = std)\n",
    "        result <- list(\"predictor_X\"=x, \"responser_t\"=t)\n",
    "        return(result)\n",
    "}\n",
    "\n",
    "x_train <- generate_data(func, 10, 0.25)$predictor_X\n",
    "y_train <- generate_data(func, 10, 0.25)$responser_t\n",
    "x_test <- seq(0, 1, length.out = (101))[-1]\n",
    "y_test = func(x_test)\n",
    "\n",
    "# library(repr)\n",
    "\n",
    "# Change plot size to 4 x 3\n",
    "#options(repr.plot.width=5,repr.plot.height=4)\n",
    "options(repr.plot.width=4,repr.plot.height=4)\n",
    "plot(x_train, y_train,\n",
    "     type=\"p\",\n",
    "     col=\"blue\", xlab=\"\", ylab=\"\",\n",
    "     ylim = c(-1.5,1.5))\n",
    "lines(x_test,y_test, col=\"green\")\n",
    "legend(\"topright\",\n",
    "       c(\"training data\",expression(paste(\"sin(2\", pi, \"x)\"))),\n",
    "       fill=c(\"blue\",\"green\"), cex =0.75\n",
    ")\n",
    "\n",
    "\n",
    "# Change plot size to 4 x 3\n"
   ]
  },
  {
   "cell_type": "code",
   "execution_count": 25,
   "metadata": {},
   "outputs": [
    {
     "data": {
      "image/png": "[encoded data removed]",
      "text/plain": [
       "plot without title"
      ]
     },
     "metadata": {},
     "output_type": "display_data"
    }
   ],
   "source": [
    "\n",
    "par(mfrow=c(2,2))\n",
    "df <- data.frame(p = x_train, r = y_train)\n",
    "\n",
    "model <- lm(r ~ 1,, data=df)\n",
    "y_pred <- predict(model, newdata =  data.frame(p = x_test))\n",
    "\n",
    "options(repr.plot.width=6,repr.plot.height=6)\n",
    "plot(x_train, y_train,\n",
    "     type=\"p\", col=\"blue\", xlab=\"\", ylab=\"\", ylim = c(-1.5,1.5))\n",
    "lines(x_test,y_test, col=\"green\")\n",
    "legend(\"topright\",\n",
    "       c(\"training data\",expression(paste(\"sin(2\", pi, \"x)\")),\"fitting\"),\n",
    "       fill=c(\"blue\",\"green\",\"red\"))\n",
    "lines(x_test,y_pred, col=\"red\")\n",
    "\n",
    "\n",
    "\n",
    "drgree <- c(1,3,9)\n",
    "for(i in drgree){\n",
    "        drgree = 3\n",
    "        model <- lm(r ~ poly(p, i), data=df)\n",
    "        y_pred <- predict(model, newdata =  data.frame(p = x_test))\n",
    "        plot(x_train, y_train,\n",
    "             type=\"p\", col=\"blue\", xlab=\"\", ylab=\"\", ylim = c(-1.5,1.5))\n",
    "        lines(x_test,y_test, col=\"green\")\n",
    "        legend(\"topright\",\n",
    "               c(\"training data\",expression(paste(\"sin(2\", pi, \"x)\")),\"fitting\"),\n",
    "               fill=c(\"blue\",\"green\",\"red\"))\n",
    "        lines(x_test,y_pred, col=\"red\")\n",
    "        \n",
    "        \n",
    "}\n"
   ]
  },
  {
   "cell_type": "code",
   "execution_count": 26,
   "metadata": {},
   "outputs": [
    {
     "data": {
      "image/png": "[encoded data removed]",
      "text/plain": [
       "plot without title"
      ]
     },
     "metadata": {},
     "output_type": "display_data"
    }
   ],
   "source": [
    "y_true = func(x_test) + rnorm(length(x_test), mean = 0, sd = 0.25)\n",
    "training_errors <- c()\n",
    "test_errors <- c()\n",
    "\n",
    "model <- lm(r ~ 1, data=df)\n",
    "y_pred <- predict(model)\n",
    "training_errors <- c(training_errors, rmse(y_pred, y_train))\n",
    "\n",
    "y_pred <- predict(model, newdata =  data.frame(p = x_test))\n",
    "test_errors <- c(test_errors, rmse(y_pred, y_true))\n",
    "\n",
    "for (i in 1:9){\n",
    "        model <- lm(r ~ poly(p, i), data=df)\n",
    "        y_pred <- predict(model)\n",
    "        training_errors <- c(training_errors, rmse(y_pred, y_train))\n",
    "        \n",
    "        y_pred <- predict(model, newdata =  data.frame(p = x_test))\n",
    "        test_errors <- c(test_errors, rmse(y_pred, y_true))\n",
    "}\n",
    "\n",
    "par(mfrow=c(1,1))\n",
    "M <- seq(0, 9, by=1)\n",
    "\n",
    "plot(M, training_errors,\n",
    "     type=\"o\",col=\"blue\", xlab=\"degree\", ylab=\"rmse\", ylim = c(0,1))\n",
    "\n",
    "lines(M, test_errors, type=\"o\",col=\"red\")\n",
    "\n",
    "legend(\"topright\",\n",
    "       c(\"training error\",\"test error\"),\n",
    "       fill=c(\"blue\",\"red\")\n",
    ")\n",
    "\n"
   ]
  },
  {
   "cell_type": "markdown",
   "metadata": {},
   "source": [
    "## Regularization"
   ]
  },
  {
   "cell_type": "code",
   "execution_count": 40,
   "metadata": {},
   "outputs": [
    {
     "data": {
      "image/png": "[encoded data removed]",
      "text/plain": [
       "plot without title"
      ]
     },
     "metadata": {},
     "output_type": "display_data"
    },
    {
     "data": {
      "image/png": "[encoded data removed]",
      "text/plain": [
       "plot without title"
      ]
     },
     "metadata": {},
     "output_type": "display_data"
    }
   ],
   "source": [
    "Xmat <- cbind(df$p, df$p^2, df$p^3, df$p^4, df$p^5, \n",
    "              df$p^6, df$p^7, df$p^8, df$p^9)\n",
    "colnames(Xmat) <- c('x1', 'x2', 'x3', 'x4', 'x5', 'x6', 'x7', 'x8', 'x9')\n",
    "\n",
    "x_test_mat <- cbind(x_test, x_test^2, x_test^3, x_test^4, x_test^5, \n",
    "              x_test^6, x_test^7, x_test^8, x_test^9)\n",
    "colnames(x_test_mat) <- c('x1', 'x2', 'x3', 'x4', 'x5', 'x6', 'x7', 'x8', 'x9')\n",
    "\n",
    "options(repr.plot.width=5,repr.plot.height=5)\n",
    "# ln(lambda) = -18\n",
    "ridge_models <- glmnet(Xmat, df$r, alpha=0, lambda=exp(-18))\n",
    "test_pred_ridge <- predict(ridge_models,  x_test_mat)\n",
    "plot(x_train, y_train,\n",
    "     type=\"p\", col=\"blue\", xlab=\"\", ylab=\"\", ylim = c(-1.5,1.5))\n",
    "lines(x_test,y_test, col=\"green\")\n",
    "lines(x_test,test_pred_ridge, col=\"red\")\n",
    "legend(\"topright\",\n",
    "       c(\"training data\",expression(paste(\"sin(2\", pi, \"x)\")),\"fitting\"),\n",
    "       fill=c(\"blue\",\"green\",\"red\"))\n",
    "\n",
    "# ln(lambda) = 0\n",
    "ridge_models <- glmnet(Xmat, df$r, alpha=0, lambda=exp(0))\n",
    "test_pred_ridge <- predict(ridge_models,  x_test_mat)\n",
    "plot(x_train, y_train,\n",
    "     type=\"p\", col=\"blue\", xlab=\"\", ylab=\"\", ylim = c(-1.5,1.5))\n",
    "lines(x_test,y_test, col=\"green\")\n",
    "lines(x_test,test_pred_ridge, col=\"red\")\n",
    "legend(\"topright\",\n",
    "       c(\"training data\",expression(paste(\"sin(2\", pi, \"x)\")),\"fitting\"),\n",
    "       fill=c(\"blue\",\"green\",\"red\"))\n",
    "\n"
   ]
  },
  {
   "cell_type": "markdown",
   "metadata": {},
   "source": [
    "## Bayesian curve fitting"
   ]
  },
  {
   "cell_type": "code",
   "execution_count": 41,
   "metadata": {},
   "outputs": [
    {
     "data": {
      "image/png": "[encoded data removed]",
      "text/plain": [
       "plot without title"
      ]
     },
     "metadata": {},
     "output_type": "display_data"
    }
   ],
   "source": [
    "####### Bayesian curve fitting ###################################\n",
    "w_mean = NA\n",
    "w_precision = NA\n",
    "\n",
    "\n",
    "is_prior_defined <- function(A,B) {\n",
    "        return(!is.na(A) & !is.na(B))\n",
    "}\n",
    "\n",
    "\n",
    "\n",
    "get_prior <- function(w_mean,w_precision, ndim, alpha) {\n",
    "        if (is_prior_defined(w_mean,w_precision)){\n",
    "                return(c(w_mean,w_precision))\n",
    "        } else {\n",
    "                a = rep(0, ndim)\n",
    "                b = alpha * diag(ndim)\n",
    "                result <- list(\"mean\"=a, \"precision\"=b)\n",
    "                return(result)\n",
    "        }\n",
    "        \n",
    "}\n",
    "\n",
    "BayesianReg_fit <- function(w_mean,w_precision,ndim=ncol(X), alpha, beta, X, t){\n",
    "        mean_prev = get_prior(w_mean,w_precision, ndim, alpha)$mean\n",
    "        precision_prev = get_prior(w_mean,w_precision,ndim, alpha)$precision\n",
    "        \n",
    "        w_precision = precision_prev + beta * t(X) %*% X\n",
    "        w_mean = solve(w_precision,\n",
    "                       precision_prev %*% as.matrix(mean_prev) + beta * t(X) %*% t)\n",
    "        \n",
    "        w_cov = solve(w_precision)\n",
    "        result <- list(\"w_mean\"=w_mean, \"w_precision\"=w_precision, \"w_cov\"=w_cov)\n",
    "        return(result)\n",
    "}\n",
    "\n",
    "BayesianReg_predict <- function(X, w_mean, w_cov, beta){\n",
    "        y = X %*% w_mean\n",
    "        y_var = 1 / beta + rowSums(X %*% w_cov * X)\n",
    "        y_std = sqrt(y_var)\n",
    "        result <- list(\"y.pred\"=y, \"y.std\"=y_std)\n",
    "        return(result)\n",
    "}\n",
    "\n",
    "\n",
    "fit_result <- BayesianReg_fit(w_mean,w_precision,ndim=ncol(Xmat), alpha=2e-3, beta=2,X = Xmat, t = y_train)\n",
    "fit.mean <- fit_result$w_mean\n",
    "fit.precision <- fit_result$w_precision\n",
    "fit.cov <- fit_result$w_cov\n",
    "\n",
    "\n",
    "\n",
    "pred_result <- BayesianReg_predict(x_test_mat, fit.mean, fit.cov, beta=2)\n",
    "y <- pred_result$y.pred\n",
    "y_err <- pred_result$y.std\n",
    "\n",
    "\n",
    "\n",
    "plot(x_train, y_train,\n",
    "     type=\"p\", col=\"blue\", xlab=\"\", ylab=\"\", xlim = c(0,1), ylim = c(-1.5,1.5))\n",
    "lines(x_test,y_test, col=\"green\")\n",
    "lines(x_test,y, col=\"red\")\n",
    "lines(x_test,y - y_err, col=\"pink\")\n",
    "lines(x_test,y + y_err, col=\"pink\")\n",
    "x=x_test\n",
    "y1 = y - y_err\n",
    "y2 = y + y_err\n",
    "polygon(c(x,rev(x)),c(y2,rev(y1)),col=rgb(1, 0, 0,0.2), border=NA)\n",
    "legend(\"topright\",\n",
    "       c(\"training data\",expression(paste(\"sin(2\", pi, \"x)\")),\"fitting\",\"std\"),\n",
    "       fill=c(\"blue\",\"green\",\"red\",rgb(1, 0, 0,0.2)))"
   ]
  },
  {
   "cell_type": "code",
   "execution_count": null,
   "metadata": {},
   "outputs": [],
   "source": []
  }
 ],
 "metadata": {
  "kernelspec": {
   "display_name": "R",
   "language": "R",
   "name": "ir"
  },
  "language_info": {
   "codemirror_mode": "r",
   "file_extension": ".r",
   "mimetype": "text/x-r-source",
   "name": "R",
   "pygments_lexer": "r",
   "version": "3.6.1"
  }
 },
 "nbformat": 4,
 "nbformat_minor": 4
}
