{
 "cells": [
  {
   "cell_type": "markdown",
   "metadata": {},
   "source": [
    "# Chapter 4 Linear Models for Classification\n"
   ]
  },
  {
   "cell_type": "code",
   "execution_count": 2,
   "metadata": {},
   "outputs": [],
   "source": [
    "options(warn=-1)\n",
    "\n",
    "library(arrangements)\n",
    "library(corpcor)\n",
    "library( dplyr)\n",
    "library(ramify)\n",
    "library( graphics)\n",
    "library(Rfast)\n",
    "library(textir)"
   ]
  },
  {
   "cell_type": "markdown",
   "metadata": {},
   "source": [
    "## 4.1 Discriminant Functions"
   ]
  },
  {
   "cell_type": "markdown",
   "metadata": {},
   "source": [
    "### 4.1.3 Least squares for classification"
   ]
  },
  {
   "cell_type": "code",
   "execution_count": 13,
   "metadata": {},
   "outputs": [
    {
     "data": {
      "image/png": "[encoded data removed]",
      "text/plain": [
       "Plot with title \"Least Squares Classifier\""
      ]
     },
     "metadata": {},
     "output_type": "display_data"
    }
   ],
   "source": [
    "#　function PolynomialFeature\n",
    "PolynomialFeature <- function(X, degree){\n",
    "        feature <- matrix(rep(1,nrow(X)),nrow(X))\n",
    "        for (i in 1:degree){\n",
    "                #i=1\n",
    "                col.index <- combinations(ncol(X), i,replace = TRUE)\n",
    "                # print(paste(\"degree\", i, sep=\"\"))\n",
    "                \n",
    "                for (j in 1:nrow(col.index)){\n",
    "                        colcombination = col.index[j,]\n",
    "                        select.feature = matrix(X[,colcombination],nrow(X))\n",
    "                        m1 = apply(select.feature,1,prod)\n",
    "                        feature <- cbind(feature, matrix(m1,nrow(X)))\n",
    "                        #print(feature)\n",
    "                }\n",
    "        }\n",
    "        return(feature)\n",
    "}\n",
    "\n",
    "#　function create data\n",
    "\n",
    "Generate_data <- function(add_outliers=F, add_class=F){\n",
    "        x0 <- matrix(rnorm(50),25,2) - 1\n",
    "        x1 <- matrix(rnorm(50),25,2) + 1\n",
    "        \n",
    "        if (add_outliers){\n",
    "                m1 <- matrix(rnorm(10),5,2) \n",
    "                outliers = matrix(c(5,10),1,2)\n",
    "                x_1 <- sweep(m1, 2, outliers,\"+\")\n",
    "                predictor <- rbind(x0,x1,x_1)\n",
    "                responser <- c(rep(0,25),rep(1,30))\n",
    "                result <- list(\"responser\"=responser, \"predictor\"=predictor)\n",
    "                return(result)\n",
    "        }\n",
    "        if (add_class){\n",
    "                x2 <- matrix(rnorm(50),25,2) + 3 \n",
    "                predictor <- rbind(x0,x1,x2)\n",
    "                responser <- c(rep(0,25),rep(1,25), rep(2,25))\n",
    "                result <- list(\"responser\"=responser, \"predictor\"=predictor)\n",
    "                return(result)\n",
    "        }\n",
    "        else {\n",
    "                predictor <- rbind(x0,x1)\n",
    "                responser <-c(rep(0,25),rep(1,25))\n",
    "                result <- list(\"responser\"=responser, \"predictor\"=predictor)\n",
    "                return(result)\n",
    "        }\n",
    "}\n",
    "\n",
    "\n",
    "\n",
    "\n",
    "Onehot_encode <- function(X){\n",
    "        mydata <-matrix(0, length(X),length(unique(X)))\n",
    "        unique_value = unique(X)\n",
    "        colnames(mydata) <- paste(\"label\", unique_value, sep = \"_\")\n",
    "        \n",
    "        j=1\n",
    "        for(i in unique(X)){\n",
    "                mydata[,j] <- ifelse(X == i, 1, 0)\n",
    "                j = j+1}\n",
    "        return(mydata)\n",
    "}\n",
    "\n",
    "\n",
    "LeastSquaresClassifier_fit <- function(X, t){\n",
    "        Onehot_t = Onehot_encode(t)\n",
    "        W = pseudoinverse(X) %*% Onehot_t\n",
    "        return(W)\n",
    "        \n",
    "}\n",
    "\n",
    "LeastSquaresClassifier_classify <- function(X, W){\n",
    "        argmax(X %*% W, rows = T)\n",
    "        \n",
    "}\n",
    "\n",
    "#　create data\n",
    "x_train　<- Generate_data()$predictor\n",
    "y_train  <- Generate_data()$responser\n",
    "x_test <- expand.grid(s.1 = seq(-5, 5, length.out=100), \n",
    "                      s.2 = seq(-5, 5, length.out=100))\n",
    "\n",
    "X_train = PolynomialFeature(x_train,1)\n",
    "X_test = PolynomialFeature(x_test,1)\n",
    "\n",
    "W_trn = LeastSquaresClassifier_fit (X_train, y_train)\n",
    "y_pred = LeastSquaresClassifier_classify(X_test, W_trn)\n",
    "y_pred = matrix(y_pred, 100, 100)\n",
    "\n",
    "options(repr.plot.width=5,repr.plot.height=4)\n",
    "filled.contour(x = seq(-5, 5, length.out=100), y = seq(-5, 5, length.out=100), \n",
    "               z = y_pred, plot.title = title(main = \"Least Squares Classifier\"),\n",
    "               plot.axes = { axis(1); axis(2); points(x_train,col = ifelse(y_train == 1,'green','red'))})\n",
    "\n"
   ]
  },
  {
   "cell_type": "markdown",
   "metadata": {},
   "source": [
    "### Logistic Regression Classifier"
   ]
  },
  {
   "cell_type": "code",
   "execution_count": 14,
   "metadata": {},
   "outputs": [
    {
     "data": {
      "image/png": "[encoded data removed]",
      "text/plain": [
       "Plot with title \"Logistic Regression Classifier\""
      ]
     },
     "metadata": {},
     "output_type": "display_data"
    }
   ],
   "source": [
    "#　create data\n",
    "x_train　<- Generate_data(add_outliers=T)$predictor\n",
    "y_train  <- Generate_data(add_outliers=T)$responser\n",
    "x_test <- expand.grid(s.1 = seq(-5, 15, length.out=100), \n",
    "                      s.2 = seq(-5, 15, length.out=100))\n",
    "\n",
    "X_train = PolynomialFeature(x_train,1)\n",
    "X_test = PolynomialFeature(x_test,1)\n",
    "\n",
    "# np.tanh(a * 0.5) * 0.5 + 0.5\n",
    "# Logistic Regression function\n",
    "LogisticRegression_fit <- function(X, t, max_iter=100){\n",
    "        w <- rep(0, ncol(X))\n",
    "        for (i in 1:max_iter){\n",
    "                w_prev = w\n",
    "                y = tanh(X %*% w * 0.5) * 0.5 + 0.5\n",
    "                grad = t(X) %*% (y - t)\n",
    "                p1 = sweep(X, 1, y,\"*\")\n",
    "                p2 = sweep(p1, 1, (1 - y),\"*\")\n",
    "                hessian =  t(p2) %*% X\n",
    "                w = w - solve(hessian, grad)\n",
    "                if (isTRUE(all.equal(w, w_prev)) ) break\n",
    "        }\n",
    "       return(w)\n",
    "}\n",
    "\n",
    "\n",
    "\n",
    "\n",
    "LogisticRegression_prob <- function(X, w){\n",
    "        # probability of input belonging class 1\n",
    "        tanh(X %*% w * 0.5) * 0.5 + 0.5\n",
    "}\n",
    "\n",
    "LogisticRegression_classify <- function(X, w, threshold = 0.5){\n",
    "        ifelse(LogisticRegression_prob(X, w) > threshold, 1, 0)\n",
    "}\n",
    "\n",
    "#\n",
    "# fit logistic on data\n",
    "w = LogisticRegression_fit (X_train, y_train, max_iter=100)\n",
    "y_pred = LogisticRegression_classify(X_test, w, threshold = 0.5)\n",
    "\n",
    "y_pred = matrix(y_pred, 100, 100)\n",
    "filled.contour(x = seq(-5, 15, length.out=100), y = seq(-5, 15, length.out=100), \n",
    "               z = y_pred, plot.title = title(main = \"Logistic Regression Classifier\"),\n",
    "               plot.axes = { axis(1); axis(2); \n",
    "                       points(x_train,col = ifelse(y_train == 1,'green','red'))})\n",
    "\n",
    "\n"
   ]
  },
  {
   "cell_type": "code",
   "execution_count": 15,
   "metadata": {},
   "outputs": [
    {
     "data": {
      "image/png": "[encoded data removed]",
      "text/plain": [
       "Plot with title \"Least Squares Classifier\""
      ]
     },
     "metadata": {},
     "output_type": "display_data"
    }
   ],
   "source": [
    "# fit Least Squares Classifier on data\n",
    "\n",
    "W_trn = LeastSquaresClassifier_fit (X_train, y_train)\n",
    "y_pred = LeastSquaresClassifier_classify(X_test, W_trn)\n",
    "y_pred = matrix(y_pred, 100, 100)\n",
    "\n",
    "\n",
    "filled.contour(x = seq(-5, 15, length.out=100), y = seq(-5, 15, length.out=100), \n",
    "               z = y_pred, plot.title = title(main = \"Least Squares Classifier\"),\n",
    "               plot.axes = { axis(1); axis(2); points(x_train,col = ifelse(y_train == 1,'green','red'))})"
   ]
  },
  {
   "cell_type": "markdown",
   "metadata": {},
   "source": [
    "### multinomial logistic regression"
   ]
  },
  {
   "cell_type": "code",
   "execution_count": 16,
   "metadata": {},
   "outputs": [
    {
     "data": {
      "image/png": "[encoded data removed]",
      "text/plain": [
       "Plot with title \"Softmax Regression\""
      ]
     },
     "metadata": {},
     "output_type": "display_data"
    }
   ],
   "source": [
    "\n",
    "x_train　<- Generate_data(add_class=T)$predictor\n",
    "y_train  <- Generate_data(add_class=T)$responser\n",
    "x_test <- expand.grid(s.1 = seq(-5, 10, length.out=100), \n",
    "                      s.2 = seq(-5, 10, length.out=100))\n",
    "\n",
    "X_train = PolynomialFeature(x_train,1)\n",
    "X_test = PolynomialFeature(x_test,1)\n",
    "\n",
    "softmax <- function(a){\n",
    "        #a=X\n",
    "        a_max <- matrix(apply(X=a, MARGIN=1, FUN=max))\n",
    "        exp_a <- exp(sweep(a, 1, a_max,\"-\"))\n",
    "        return(exp_a / rowSums(exp_a))\n",
    "}\n",
    "\n",
    "\n",
    "SoftmaxReg_fit <- function(X, t, max_iter=100, learning_rate=0.1){\n",
    "        \n",
    "        t = Onehot_encode(t)\n",
    "        n_classes = ncol(t)\n",
    "        W = matrix(0, ncol(X), n_classes)\n",
    "        for (i in 1: max_iter){\n",
    "                W_prev  = W\n",
    "                y = softmax(X %*% W)\n",
    "                grad = t(X) %*% (y - t)\n",
    "                W = W - learning_rate * grad\n",
    "                if (isTRUE(all.equal(W, W_prev)) ) break\n",
    "        }\n",
    "        return(W)\n",
    "}\n",
    "\n",
    "\n",
    "SoftmaxReg_classify <- function(X, W){\n",
    "        \n",
    "        prob = softmax(X %*% W)\n",
    "        class_index <- max.col(prob, 'first')\n",
    "        return(class_index)\n",
    "}\n",
    "\n",
    "Soft_w = SoftmaxReg_fit(X_train, y_train, max_iter=1000, learning_rate=0.01)\n",
    "y_pred = SoftmaxReg_classify(X_test,Soft_w)\n",
    "y_pred = matrix(y_pred, 100, 100)\n",
    "\n",
    "\n",
    "filled.contour(x = seq(-5, 10, length.out=100), y = seq(-5, 10, length.out=100), \n",
    "               z = y_pred, plot.title = title(main = \"Softmax Regression\"),\n",
    "               plot.axes = { axis(1); axis(2); \n",
    "                       points(x_train,col = ifelse(y_train ==1, 'green', \n",
    "                                                   ifelse(y_train ==2, 'red', 'blue')))})\n"
   ]
  },
  {
   "cell_type": "code",
   "execution_count": 17,
   "metadata": {},
   "outputs": [
    {
     "data": {
      "image/png": "[encoded data removed]",
      "text/plain": [
       "Plot with title \"Least Squares Classifier\""
      ]
     },
     "metadata": {},
     "output_type": "display_data"
    }
   ],
   "source": [
    "# fit Least Squares Classifier on data\n",
    "\n",
    "W_trn = LeastSquaresClassifier_fit (X_train, y_train)\n",
    "y_pred = LeastSquaresClassifier_classify(X_test, W_trn)\n",
    "y_pred = matrix(y_pred, 100, 100)\n",
    "\n",
    "\n",
    "filled.contour(x = seq(-5, 10, length.out=100), y = seq(-5, 10, length.out=100), \n",
    "               z = y_pred, plot.title = title(main = \"Least Squares Classifier\"),\n",
    "               plot.axes = { axis(1); axis(2); \n",
    "                       points(x_train,col = ifelse(y_train ==1, 'green', \n",
    "                                                   ifelse(y_train ==2, 'red', 'blue')))})"
   ]
  },
  {
   "cell_type": "markdown",
   "metadata": {},
   "source": [
    "### 4.1.4 Fisher's linear discriminant"
   ]
  },
  {
   "cell_type": "code",
   "execution_count": 18,
   "metadata": {},
   "outputs": [
    {
     "data": {
      "image/png": "[encoded data removed]",
      "text/plain": [
       "Plot with title \"Fisher's linear discriminant Classifier\""
      ]
     },
     "metadata": {},
     "output_type": "display_data"
    }
   ],
   "source": [
    "# Fisher's linear discriminant\n",
    "# generate data\n",
    "x_train　<- Generate_data()$predictor\n",
    "y_train  <- Generate_data()$responser\n",
    "x_test <- expand.grid(s.1 = seq(-5, 5, length.out=100), \n",
    "                      s.2 = seq(-5, 5, length.out=100))\n",
    "\n",
    "\n",
    "norm_vec <- function(x) sqrt(sum(x^2))\n",
    "\n",
    "FishersLD_fit <- function(X, t){\n",
    "        X0 = X[t == 0, ]\n",
    "        X1 = X[t == 1 ,]\n",
    "        m0 = colMeans(X0)\n",
    "        m1 = colMeans(X1)\n",
    "        cov_inclass = cov(X0) + cov(X1)\n",
    "        w = solve(cov_inclass, m1 - m0)\n",
    "        w = w / clip(norm_vec(w), .min = 1e-10)\n",
    "        \n",
    "        g0 = X0 %*% w\n",
    "        g0.var = colVars(g0)\n",
    "        g0.mu = colMeans(g0)\n",
    "        g1 = X1 %*% w\n",
    "        g1.var = colVars(g1)\n",
    "        g1.mu = colMeans(g1)\n",
    "        \n",
    "        p0 = g1.var - g0.var\n",
    "        p1 = 2 * (g0.var * g1.mu - g1.var * g0.mu)\n",
    "        p2 = g1.var * g0.mu ** 2 - g0.var * g1.mu ** 2- \n",
    "                g1.var * g0.var * log(g1.var / g0.var)\n",
    "        root = Re(polyroot(c(p2,p1,p0)))\n",
    "        cond1 <- (root[1] > g0.mu & root[1] < g1.mu) | (root[1] > g1.mu & root[1] < g0.mu)\n",
    "        if (cond1) {\n",
    "                threshold = root[1]\n",
    "        } else {threshold = root[2]}\n",
    "        \n",
    "        w = matrix(w,nrow=2)\n",
    "        result <- list(\"w\"=w, \"threshold\"=threshold)\n",
    "        return(result)\n",
    "}\n",
    "\n",
    "FishersLD_classify <- function(X, w, threshold){\n",
    "        ifelse(X %*% w > threshold, 1, 0)\n",
    "}\n",
    "\n",
    "\n",
    "\n",
    "FLD.fit <- FishersLD_fit(x_train, y_train)\n",
    "\n",
    "y_pred = FishersLD_classify ( as.matrix(x_test), FLD.fit$w, FLD.fit$threshold)\n",
    "y_pred = matrix(y_pred, 100, 100)\n",
    "\n",
    "\n",
    "filled.contour(x = seq(-5, 5, length.out=100), y = seq(-5, 5, length.out=100), \n",
    "               z = y_pred, plot.title = title(main = \"Fisher's linear discriminant Classifier\"),\n",
    "               plot.axes = { axis(1); axis(2); \n",
    "                       points(x_train,col = ifelse(y_train == 1,'green','red'))})\n"
   ]
  },
  {
   "cell_type": "markdown",
   "metadata": {},
   "source": [
    "## 4.3 Probabilistic Discriminative Models"
   ]
  },
  {
   "cell_type": "code",
   "execution_count": 19,
   "metadata": {},
   "outputs": [
    {
     "data": {
      "image/png": "[encoded data removed]",
      "text/plain": [
       "Plot with title \"Logistic Regression Classifier\""
      ]
     },
     "metadata": {},
     "output_type": "display_data"
    },
    {
     "data": {
      "image/png": "[encoded data removed]",
      "text/plain": [
       "Plot with title \"Bayesian Logistic Regression\""
      ]
     },
     "metadata": {},
     "output_type": "display_data"
    }
   ],
   "source": [
    "x_train　<- Generate_data()$predictor\n",
    "y_train  <- Generate_data()$responser\n",
    "x_test <- expand.grid(s.1 = seq(-5, 5, length.out=100), \n",
    "                      s.2 = seq(-5, 5, length.out=100))\n",
    "\n",
    "\n",
    "X_train = PolynomialFeature(x_train,1)\n",
    "X_test = PolynomialFeature(x_test,1)\n",
    "\n",
    "w = LogisticRegression_fit (X_train, y_train, max_iter=100)\n",
    "y_pred = LogisticRegression_prob (X_test, w)\n",
    "\n",
    "\n",
    "y_pred = matrix(y_pred, 100, 100)\n",
    "filled.contour(x = seq(-5, 5, length.out=100), y = seq(-5, 5, length.out=100), \n",
    "               z = y_pred, plot.title = title(main = \"Logistic Regression Classifier\"),\n",
    "               plot.axes = { axis(1); axis(2); \n",
    "                       points(x_train,col = ifelse(y_train == 1,'green','red'))})\n",
    "\n",
    "\n",
    "# Bayesian Logistic Regression\n",
    "\n",
    "BayesLogistic_fit <- function(X, t, alpha, max_iter=100){\n",
    "        \n",
    "        w = rep(0, ncol(X))\n",
    "        eye = diag(ncol(X))\n",
    "        w_mean = w\n",
    "        w_precision = alpha * eye\n",
    "        \n",
    "        for (i in 1:max_iter){\n",
    "                w_prev = w\n",
    "                y = tanh(X %*% w * 0.5) * 0.5 + 0.5\n",
    "                grad = t(X) %*% (y - t) + w_precision %*% (w - w_mean)\n",
    "                p1 = sweep(X, 1, y,\"*\")\n",
    "                p2 = sweep(p1, 1, (1 - y),\"*\")\n",
    "                hessian =  t(p2) %*% X + w_precision\n",
    "                w = w - solve(hessian, grad)\n",
    "                if (isTRUE(all.equal(w, w_prev)) ) break\n",
    "        }\n",
    "        w_mean = w\n",
    "        w_precision = hessian\n",
    "        \n",
    "        result <- list(\"w_mean\"=w_mean, \"w_precision\"=w_precision)\n",
    "        return(result)\n",
    "}\n",
    "\n",
    "\n",
    "\n",
    "BayesLogistic_prob <- function(X, w_mean, w_precision){\n",
    "        mu_a = X %*%  w_mean\n",
    "        var_r = t(solve(w_precision, t(X))) * X\n",
    "        var_a = rowSums(var_r)\n",
    "        proba = mu_a / sqrt(1 + pi * var_a / 8)\n",
    "        result = tanh(proba * 0.5) * 0.5 + 0.5\n",
    "        return(result)\n",
    "}\n",
    "\n",
    "x_train　<- Generate_data()$predictor\n",
    "y_train  <- Generate_data()$responser\n",
    "x_test <- expand.grid(s.1 = seq(-5, 5, length.out=100), \n",
    "                      s.2 = seq(-5, 5, length.out=100))\n",
    "\n",
    "\n",
    "X_train = PolynomialFeature(x_train,1)\n",
    "X_test = PolynomialFeature(x_test,1)\n",
    "\n",
    "BL.fit <- BayesLogistic_fit(X_train, y_train, alpha=1, max_iter=1000)\n",
    "\n",
    "y_pred = BayesLogistic_prob(X_test, BL.fit$w_mean, BL.fit$w_precision)\n",
    "\n",
    "\n",
    "y_pred = matrix(y_pred, 100, 100)\n",
    "filled.contour(x = seq(-5, 5, length.out=100), y = seq(-5, 5, length.out=100), \n",
    "               z = y_pred, plot.title = title(main = \"Bayesian Logistic Regression\"),\n",
    "               plot.axes = { axis(1); axis(2); \n",
    "                       points(x_train,col = ifelse(y_train == 1,'green','red'))})\n",
    "\n",
    "\n",
    "\n",
    "\n",
    "\n",
    "\n"
   ]
  },
  {
   "cell_type": "markdown",
   "metadata": {},
   "source": []
  },
  {
   "cell_type": "code",
   "execution_count": null,
   "metadata": {},
   "outputs": [],
   "source": []
  },
  {
   "cell_type": "code",
   "execution_count": null,
   "metadata": {},
   "outputs": [],
   "source": []
  }
 ],
 "metadata": {
  "kernelspec": {
   "display_name": "R",
   "language": "R",
   "name": "ir"
  },
  "language_info": {
   "codemirror_mode": "r",
   "file_extension": ".r",
   "mimetype": "text/x-r-source",
   "name": "R",
   "pygments_lexer": "r",
   "version": "3.6.1"
  }
 },
 "nbformat": 4,
 "nbformat_minor": 4
}
